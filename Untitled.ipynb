{
 "cells": [
  {
   "cell_type": "code",
   "execution_count": 16,
   "metadata": {},
   "outputs": [],
   "source": [
    "import numpy as np\n",
    "from scipy.optimize import minimize\n",
    "import matplotlib.pyplot as plt\n",
    "%matplotlib inline"
   ]
  },
  {
   "cell_type": "code",
   "execution_count": 69,
   "metadata": {},
   "outputs": [],
   "source": [
    "#params = (theta, t, vprime)\n",
    "\n",
    "def f(params):\n",
    "    return 0.5*params[1]**2\n",
    "\n",
    "x0, y0, vx, vy, x0prime, y0prime = 0, 0, 100, 100, 500, 0\n",
    "\n",
    "cons = ({'type': 'eq', 'fun': lambda x:  x0prime - x0 + x[2]*np.cos(x[0])*x[1] - vx*x[1]},\n",
    "        {'type': 'eq', 'fun': lambda x:  y0prime - y0 + x[2]*np.sin(x[0])*x[1] - vy*x[1]},\n",
    "        {'type': 'ineq', 'fun': lambda x: x[0]},\n",
    "        {'type': 'ineq', 'fun': lambda x: x[1]},\n",
    "        {'type': 'ineq', 'fun': lambda x: x[2]},\n",
    "        {'type': 'ineq', 'fun': lambda x: np.pi-x[0]},\n",
    "        {'type': 'ineq', 'fun': lambda x: 200-x[2]})\n",
    "\n",
    "res = minimize(f, (np.pi/2,1,200), method='SLSQP', constraints=cons)"
   ]
  },
  {
   "cell_type": "code",
   "execution_count": 71,
   "metadata": {},
   "outputs": [
    {
     "name": "stdout",
     "output_type": "stream",
     "text": [
      "     fun: 1.6746824525889843\n",
      "     jac: array([0.        , 1.83012702, 0.        ])\n",
      " message: 'Optimization terminated successfully.'\n",
      "    nfev: 31\n",
      "     nit: 6\n",
      "    njev: 6\n",
      "  status: 0\n",
      " success: True\n",
      "       x: array([  2.61799388,   1.83012702, 200.        ])\n"
     ]
    }
   ],
   "source": [
    "print(res)"
   ]
  },
  {
   "cell_type": "code",
   "execution_count": 112,
   "metadata": {},
   "outputs": [],
   "source": [
    "def kalman_update(x, P, F, B, u, Q, measurement, z, R, H):\n",
    "    '''Performs one step of Kalman filter update (with measurements if provided).\n",
    "    \n",
    "    x : Current state estimate vector.\n",
    "    P : Current state covariance matrix.\n",
    "    F : State transition matrix.\n",
    "    B : Control matrix.\n",
    "    u : Control vector.\n",
    "    Q : State uncertainty matrix.\n",
    "    z : Current measured state vector.\n",
    "    R : Measured state uncertainty matrix.\n",
    "    H : Mapping matrix from states to measurements (not needed).'''\n",
    "    \n",
    "    assert x.shape == (6,1)\n",
    "    assert P.shape == (6,6)\n",
    "    assert F.shape == (6,6)\n",
    "\n",
    "    xhat = np.matmul(F, x) + np.matmul(B, u)\n",
    "    Phat = np.matmul(F, np.matmul(P, F.T)) + Q\n",
    "\n",
    "    if measurement==0:\n",
    "        return xhat, Phat\n",
    "    \n",
    "    else:\n",
    "        Kprime = np.matmul(P, np.matmul(H.T, np.linalg.inv(np.matmul(H, np.matmul(P, H.T)) + R)))\n",
    "        xhatprime = xhat + np.matmul(Kprime, z - np.matmul(H, xhat))\n",
    "        Phatprime = Phat - np.matmul(Kprime, np.matmul(H, P))\n",
    "\n",
    "        return xhatprime, Phatprime\n",
    "\n",
    "def solve(measurements, measurements_uncertainty, measurements_idx, initx, initP, F, B, u, Q, N, H=np.eye(6)):\n",
    "    '''Returns the state estimations given measurements and state dynamics.\n",
    "    \n",
    "    measurements : Matrix where each row is the state measurements. 0 if not available.\n",
    "    measurements_uncertainty : Measurement uncertainties. 0 if not available.\n",
    "    measurements_idx :  Length N array holding 1 if that time index has a measurement.\n",
    "    initx : Mean for states estimate at time 0.\n",
    "    initP : Covariance for states estimate at time 0.\n",
    "    F : State transition matrix.\n",
    "    B : Control matrix.\n",
    "    u : Control vector.\n",
    "    Q : State uncertainty matrix.\n",
    "    N : Number of time indices.\n",
    "    H : Mapping matrix from states to measurements (not needed).'''\n",
    "\n",
    "    x_sol = [initx]\n",
    "    P_sol = [initP]\n",
    "\n",
    "    for k in range(N):\n",
    "        x_now, P_now = kalman_update(x_sol[-1].reshape(-1,1), P_sol[-1], F, B, u, Q, \\\n",
    "                        measurements_idx[k], measurements[k].reshape(-1,1), measurements_uncertainty, H)\n",
    "\n",
    "        x_sol.append(x_now.flatten())\n",
    "        P_sol.append(P_now)\n",
    "\n",
    "    return np.array(x_sol), np.array(P_sol)\n",
    "\n",
    "def generate_data(xinit, vinit, delta, N, prop, noise):\n",
    "    '''Generate true and noisy 3D data.\n",
    "\n",
    "    xinit : 3D array of initial x,y,z positions.\n",
    "    vinit : 3D array of initial x,y,z velocities.\n",
    "    delta : Time delta.\n",
    "    N : Number of time indices to consider.\n",
    "    prop : Proportion of N, indicates how many noisy measurements to generate.\n",
    "    noise : Variance of added noise.'''\n",
    "\n",
    "    x = [xinit[0]]\n",
    "    y = [xinit[1]]\n",
    "    z = [xinit[2]]\n",
    "    velx = [vinit[0]]\n",
    "    vely = [vinit[1]]\n",
    "    velz = [vinit[2]]\n",
    "    idx = np.zeros(N)\n",
    "\n",
    "    for k in range(N):\n",
    "        x.append(x[-1] + velx[-1]*delta)\n",
    "        y.append(y[-1] + vely[-1]*delta)\n",
    "        z.append(z[-1] + velz[-1]*delta - 0.5*9.81*delta**2)\n",
    "        velx.append(velx[-1])\n",
    "        vely.append(vely[-1])\n",
    "        velz.append(velz[-1] - 9.81*delta)\n",
    "        if k % int(prop*N) == 0:\n",
    "            idx[k] = 1\n",
    "\n",
    "    actual = np.vstack((np.array(x),np.array(y),np.array(z),np.array(velx),np.array(vely),np.array(velz)))\n",
    "    noisy = actual.T + noise*np.random.randn(N+1, 6)\n",
    "\n",
    "    return idx, actual.T, noisy\n",
    "\n",
    "\n",
    "D = 2\n",
    "xinit = np.array([0,0,0])\n",
    "vinit = np.array([100,100,100])\n",
    "delta = 0.1\n",
    "N = 200\n",
    "prop = 0.1\n",
    "noise = 10\n",
    "\n",
    "measurements_idx, actual, measurements = generate_data(xinit, vinit, delta, N, prop, noise)\n",
    "\n",
    "F = np.array([[1,0,0,delta,0,0],\n",
    "              [0,1,0,0,delta,0],\n",
    "              [0,0,1,0,0,delta],\n",
    "              [0,0,0,1,0,0],\n",
    "              [0,0,0,0,1,0],\n",
    "              [0,0,0,0,0,1]])\n",
    "\n",
    "B = np.array([0,0,0.5*delta**2,0,0,delta]).reshape(-1,1)\n",
    "u = np.array([-9.81]).reshape(-1,1)\n",
    "\n",
    "x, P = solve(measurements, noise*np.eye(6), measurements_idx, np.array([0,0,0,100,100,100]), \\\n",
    "             np.eye(6), F, B, u, 10*np.eye(6), N, H=np.eye(6))"
   ]
  },
  {
   "cell_type": "code",
   "execution_count": 117,
   "metadata": {},
   "outputs": [
    {
     "data": {
      "image/png": "[encoded data removed]",
      "text/plain": [
       "<Figure size 720x432 with 1 Axes>"
      ]
     },
     "metadata": {
      "needs_background": "light"
     },
     "output_type": "display_data"
    }
   ],
   "source": [
    "plt.figure(figsize=(10,6))\n",
    "i=0\n",
    "j=2\n",
    "# plt.plot(x[:,0], x[:,2], c='b')\n",
    "plt.scatter(measurements[1:][measurements_idx==1][:,i], measurements[1:][measurements_idx==1][:,j], c='k',\\\n",
    "            label='Noisy Measurements')\n",
    "plt.plot(actual[:,i], actual[:,j], 'r', label='Actual')\n",
    "x_bands = []\n",
    "y_low = []\n",
    "y_high = []\n",
    "for k in range(N+1):\n",
    "    samples = np.random.multivariate_normal(x[k], P[k], 100)\n",
    "    lower = np.percentile(samples, 2.5, axis=0)\n",
    "    upper = np.percentile(samples, 97.5, axis=0)\n",
    "    y_low.append(lower[j])\n",
    "    y_high.append(upper[j])\n",
    "#     plt.scatter(samples[:, i], samples[:, j], s=3, alpha=0.01, c='b')\n",
    "    \n",
    "plt.fill_between(actual[:,i], y_low, y_high, alpha=0.2, label='Kalman Estimate')\n",
    "plt.legend()\n",
    "plt.show()"
   ]
  },
  {
   "cell_type": "code",
   "execution_count": 88,
   "metadata": {},
   "outputs": [
    {
     "data": {
      "text/plain": [
       "(201, 6)"
      ]
     },
     "execution_count": 88,
     "metadata": {},
     "output_type": "execute_result"
    }
   ],
   "source": [
    "x.shape"
   ]
  },
  {
   "cell_type": "code",
   "execution_count": 60,
   "metadata": {},
   "outputs": [
    {
     "data": {
      "text/plain": [
       "array([[  11.66019875,   13.18331225,    5.56786444,  101.91266727,\n",
       "          91.57549167,   77.43042514],\n",
       "       [ 211.68396189,  208.05673678,  183.54094619,  108.45811412,\n",
       "         112.54376631,   88.85322451],\n",
       "       [ 413.98509168,  405.28240814,  330.99301148,   92.73019587,\n",
       "         101.84591869,   44.19315181],\n",
       "       [ 603.24124861,  603.82625452,  428.84712806,   92.59088279,\n",
       "          93.77135106,   22.23033622],\n",
       "       [ 817.17189796,  818.00954533,  483.18677571,  107.63915871,\n",
       "          98.93874967,   22.9562983 ],\n",
       "       [1004.66763384, 1014.94949932,  522.13267091,   97.50263699,\n",
       "         119.91385313,    1.820543  ],\n",
       "       [1207.16681172, 1211.95527556,  504.51067134,  110.83456329,\n",
       "          85.59601079,  -20.98150213],\n",
       "       [1417.75642171, 1406.60422882,  445.44214227,  112.94736603,\n",
       "          91.73161708,  -40.6571986 ],\n",
       "       [1597.45175679, 1610.54748056,  333.22994836,   97.30676421,\n",
       "          96.62401486,  -54.1921692 ],\n",
       "       [1803.30244048, 1803.87290294,  217.13714607,  106.59194606,\n",
       "          99.75088511,  -92.11328747]])"
      ]
     },
     "execution_count": 60,
     "metadata": {},
     "output_type": "execute_result"
    }
   ],
   "source": [
    "measurements[1:][measurements_idx==1]"
   ]
  },
  {
   "cell_type": "code",
   "execution_count": 58,
   "metadata": {},
   "outputs": [
    {
     "data": {
      "text/plain": [
       "array([ True, False, False, False, False, False, False, False, False,\n",
       "       False, False, False, False, False, False, False, False, False,\n",
       "       False, False,  True, False, False, False, False, False, False,\n",
       "       False, False, False, False, False, False, False, False, False,\n",
       "       False, False, False, False,  True, False, False, False, False,\n",
       "       False, False, False, False, False, False, False, False, False,\n",
       "       False, False, False, False, False, False,  True, False, False,\n",
       "       False, False, False, False, False, False, False, False, False,\n",
       "       False, False, False, False, False, False, False, False,  True,\n",
       "       False, False, False, False, False, False, False, False, False,\n",
       "       False, False, False, False, False, False, False, False, False,\n",
       "       False,  True, False, False, False, False, False, False, False,\n",
       "       False, False, False, False, False, False, False, False, False,\n",
       "       False, False, False,  True, False, False, False, False, False,\n",
       "       False, False, False, False, False, False, False, False, False,\n",
       "       False, False, False, False, False,  True, False, False, False,\n",
       "       False, False, False, False, False, False, False, False, False,\n",
       "       False, False, False, False, False, False, False,  True, False,\n",
       "       False, False, False, False, False, False, False, False, False,\n",
       "       False, False, False, False, False, False, False, False, False,\n",
       "        True, False, False, False, False, False, False, False, False,\n",
       "       False, False, False, False, False, False, False, False, False,\n",
       "       False, False])"
      ]
     },
     "execution_count": 58,
     "metadata": {},
     "output_type": "execute_result"
    }
   ],
   "source": [
    "measurements_idx==1"
   ]
  },
  {
   "cell_type": "code",
   "execution_count": 101,
   "metadata": {},
   "outputs": [
    {
     "data": {
      "text/plain": [
       "(6,)"
      ]
     },
     "execution_count": 101,
     "metadata": {},
     "output_type": "execute_result"
    }
   ],
   "source": [
    "samples = np.random.multivariate_normal(x[0], P[0], 1000)\n",
    "np.percentile(samples,2.5, axis=0).shape"
   ]
  },
  {
   "cell_type": "code",
   "execution_count": null,
   "metadata": {},
   "outputs": [],
   "source": []
  }
 ],
 "metadata": {
  "kernelspec": {
   "display_name": "Python 3",
   "language": "python",
   "name": "python3"
  },
  "language_info": {
   "codemirror_mode": {
    "name": "ipython",
    "version": 3
   },
   "file_extension": ".py",
   "mimetype": "text/x-python",
   "name": "python",
   "nbconvert_exporter": "python",
   "pygments_lexer": "ipython3",
   "version": "3.6.9"
  }
 },
 "nbformat": 4,
 "nbformat_minor": 2
}
